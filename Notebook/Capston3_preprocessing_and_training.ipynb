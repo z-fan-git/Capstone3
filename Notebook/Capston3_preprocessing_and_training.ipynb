{
 "cells": [
  {
   "cell_type": "markdown",
   "metadata": {},
   "source": [
    "# 4 Pre-Processing and Training Data<a id='4_Pre-Processing_and_Training_Data'></a>"
   ]
  },
  {
   "cell_type": "markdown",
   "metadata": {},
   "source": [
    "## 4.1 Contents<a id='4.1'></a>\n",
    "* [4.1 Contents](#4.1)\n",
    "* [4.2 Introduction](#4.2)\n",
    "* [4.3 Imports](#4.3)\n",
    "* [4.4 Load Data](#4.4)\n",
    "* [4.5 Create dummy features for categorical variables](#4.5)\n",
    "* [4.6 Train/Test Split](#4.6)\n",
    "* [4.7 Scale the data](#4.7)\n",
    "* [4.8 Model Comparison](#4.8)\n",
    "    * [4.8.1 Linear Regression](#4.8.1)\n",
    "    * [4.8.2 Random Forest Model](#4.8.2)\n",
    "  "
   ]
  },
  {
   "cell_type": "markdown",
   "metadata": {},
   "source": [
    "## 4.2 Introduction<a id='4.2'></a>"
   ]
  },
  {
   "cell_type": "markdown",
   "metadata": {},
   "source": [
    "The main tasks in this notebook are:\n",
    "- Create dummy or indicator features for categorical variables\n",
    "- Standardize the magnitude of numeric features using a scaler\n",
    "- Split your data into testing and training datasets"
   ]
  },
  {
   "cell_type": "markdown",
   "metadata": {},
   "source": [
    "## 4.3 Imports<a id='4.3'></a>"
   ]
  },
  {
   "cell_type": "code",
   "execution_count": 1,
   "metadata": {},
   "outputs": [],
   "source": [
    "import pandas as pd\n",
    "import numpy as np\n",
    "import os\n",
    "import pickle\n",
    "import matplotlib.pyplot as plt\n",
    "import seaborn as sns\n",
    "from sklearn import __version__ as sklearn_version\n",
    "from sklearn.decomposition import PCA\n",
    "from sklearn.preprocessing import scale\n",
    "from sklearn.model_selection import train_test_split, cross_validate, GridSearchCV, learning_curve\n",
    "from sklearn.preprocessing import StandardScaler, MinMaxScaler\n",
    "from sklearn.linear_model import LinearRegression\n",
    "from sklearn.ensemble import RandomForestRegressor\n",
    "from sklearn.metrics import r2_score, mean_squared_error, make_scorer, mean_absolute_error\n",
    "from sklearn.pipeline import make_pipeline, Pipeline\n",
    "import datetime\n",
    "\n",
    "from library.sb_utils import save_file"
   ]
  },
  {
   "cell_type": "markdown",
   "metadata": {},
   "source": [
    "## 4.4 Load Data<a id='4.4'></a>"
   ]
  },
  {
   "cell_type": "code",
   "execution_count": 2,
   "metadata": {
    "scrolled": false
   },
   "outputs": [
    {
     "data": {
      "text/html": [
       "<div>\n",
       "<style scoped>\n",
       "    .dataframe tbody tr th:only-of-type {\n",
       "        vertical-align: middle;\n",
       "    }\n",
       "\n",
       "    .dataframe tbody tr th {\n",
       "        vertical-align: top;\n",
       "    }\n",
       "\n",
       "    .dataframe thead th {\n",
       "        text-align: right;\n",
       "    }\n",
       "</style>\n",
       "<table border=\"1\" class=\"dataframe\">\n",
       "  <thead>\n",
       "    <tr style=\"text-align: right;\">\n",
       "      <th></th>\n",
       "      <th>school</th>\n",
       "      <th>sex</th>\n",
       "      <th>age</th>\n",
       "      <th>address</th>\n",
       "      <th>famsize</th>\n",
       "      <th>Pstatus</th>\n",
       "      <th>Medu</th>\n",
       "      <th>Fedu</th>\n",
       "      <th>Mjob</th>\n",
       "      <th>Fjob</th>\n",
       "      <th>...</th>\n",
       "      <th>famrel</th>\n",
       "      <th>freetime</th>\n",
       "      <th>goout</th>\n",
       "      <th>Dalc</th>\n",
       "      <th>Walc</th>\n",
       "      <th>health</th>\n",
       "      <th>absences</th>\n",
       "      <th>G1</th>\n",
       "      <th>G2</th>\n",
       "      <th>G3</th>\n",
       "    </tr>\n",
       "  </thead>\n",
       "  <tbody>\n",
       "    <tr>\n",
       "      <th>0</th>\n",
       "      <td>GP</td>\n",
       "      <td>F</td>\n",
       "      <td>18</td>\n",
       "      <td>U</td>\n",
       "      <td>GT3</td>\n",
       "      <td>A</td>\n",
       "      <td>4</td>\n",
       "      <td>4</td>\n",
       "      <td>at_home</td>\n",
       "      <td>teacher</td>\n",
       "      <td>...</td>\n",
       "      <td>4</td>\n",
       "      <td>3</td>\n",
       "      <td>4</td>\n",
       "      <td>1</td>\n",
       "      <td>1</td>\n",
       "      <td>3</td>\n",
       "      <td>6</td>\n",
       "      <td>5</td>\n",
       "      <td>6</td>\n",
       "      <td>6</td>\n",
       "    </tr>\n",
       "    <tr>\n",
       "      <th>1</th>\n",
       "      <td>GP</td>\n",
       "      <td>F</td>\n",
       "      <td>17</td>\n",
       "      <td>U</td>\n",
       "      <td>GT3</td>\n",
       "      <td>T</td>\n",
       "      <td>1</td>\n",
       "      <td>1</td>\n",
       "      <td>at_home</td>\n",
       "      <td>other</td>\n",
       "      <td>...</td>\n",
       "      <td>5</td>\n",
       "      <td>3</td>\n",
       "      <td>3</td>\n",
       "      <td>1</td>\n",
       "      <td>1</td>\n",
       "      <td>3</td>\n",
       "      <td>4</td>\n",
       "      <td>5</td>\n",
       "      <td>5</td>\n",
       "      <td>6</td>\n",
       "    </tr>\n",
       "    <tr>\n",
       "      <th>2</th>\n",
       "      <td>GP</td>\n",
       "      <td>F</td>\n",
       "      <td>15</td>\n",
       "      <td>U</td>\n",
       "      <td>LE3</td>\n",
       "      <td>T</td>\n",
       "      <td>1</td>\n",
       "      <td>1</td>\n",
       "      <td>at_home</td>\n",
       "      <td>other</td>\n",
       "      <td>...</td>\n",
       "      <td>4</td>\n",
       "      <td>3</td>\n",
       "      <td>2</td>\n",
       "      <td>2</td>\n",
       "      <td>3</td>\n",
       "      <td>3</td>\n",
       "      <td>10</td>\n",
       "      <td>7</td>\n",
       "      <td>8</td>\n",
       "      <td>10</td>\n",
       "    </tr>\n",
       "    <tr>\n",
       "      <th>3</th>\n",
       "      <td>GP</td>\n",
       "      <td>F</td>\n",
       "      <td>15</td>\n",
       "      <td>U</td>\n",
       "      <td>GT3</td>\n",
       "      <td>T</td>\n",
       "      <td>4</td>\n",
       "      <td>2</td>\n",
       "      <td>health</td>\n",
       "      <td>services</td>\n",
       "      <td>...</td>\n",
       "      <td>3</td>\n",
       "      <td>2</td>\n",
       "      <td>2</td>\n",
       "      <td>1</td>\n",
       "      <td>1</td>\n",
       "      <td>5</td>\n",
       "      <td>2</td>\n",
       "      <td>15</td>\n",
       "      <td>14</td>\n",
       "      <td>15</td>\n",
       "    </tr>\n",
       "    <tr>\n",
       "      <th>4</th>\n",
       "      <td>GP</td>\n",
       "      <td>F</td>\n",
       "      <td>16</td>\n",
       "      <td>U</td>\n",
       "      <td>GT3</td>\n",
       "      <td>T</td>\n",
       "      <td>3</td>\n",
       "      <td>3</td>\n",
       "      <td>other</td>\n",
       "      <td>other</td>\n",
       "      <td>...</td>\n",
       "      <td>4</td>\n",
       "      <td>3</td>\n",
       "      <td>2</td>\n",
       "      <td>1</td>\n",
       "      <td>2</td>\n",
       "      <td>5</td>\n",
       "      <td>4</td>\n",
       "      <td>6</td>\n",
       "      <td>10</td>\n",
       "      <td>10</td>\n",
       "    </tr>\n",
       "  </tbody>\n",
       "</table>\n",
       "<p>5 rows × 33 columns</p>\n",
       "</div>"
      ],
      "text/plain": [
       "  school sex  age address famsize Pstatus  Medu  Fedu     Mjob      Fjob  ...  \\\n",
       "0     GP   F   18       U     GT3       A     4     4  at_home   teacher  ...   \n",
       "1     GP   F   17       U     GT3       T     1     1  at_home     other  ...   \n",
       "2     GP   F   15       U     LE3       T     1     1  at_home     other  ...   \n",
       "3     GP   F   15       U     GT3       T     4     2   health  services  ...   \n",
       "4     GP   F   16       U     GT3       T     3     3    other     other  ...   \n",
       "\n",
       "  famrel freetime  goout  Dalc  Walc health absences  G1  G2  G3  \n",
       "0      4        3      4     1     1      3        6   5   6   6  \n",
       "1      5        3      3     1     1      3        4   5   5   6  \n",
       "2      4        3      2     2     3      3       10   7   8  10  \n",
       "3      3        2      2     1     1      5        2  15  14  15  \n",
       "4      4        3      2     1     2      5        4   6  10  10  \n",
       "\n",
       "[5 rows x 33 columns]"
      ]
     },
     "execution_count": 2,
     "metadata": {},
     "output_type": "execute_result"
    }
   ],
   "source": [
    "student_data = pd.read_csv('../data/student_data_cleaned.csv')\n",
    "student_data.head()"
   ]
  },
  {
   "cell_type": "code",
   "execution_count": 3,
   "metadata": {},
   "outputs": [
    {
     "data": {
      "text/html": [
       "<div>\n",
       "<style scoped>\n",
       "    .dataframe tbody tr th:only-of-type {\n",
       "        vertical-align: middle;\n",
       "    }\n",
       "\n",
       "    .dataframe tbody tr th {\n",
       "        vertical-align: top;\n",
       "    }\n",
       "\n",
       "    .dataframe thead th {\n",
       "        text-align: right;\n",
       "    }\n",
       "</style>\n",
       "<table border=\"1\" class=\"dataframe\">\n",
       "  <thead>\n",
       "    <tr style=\"text-align: right;\">\n",
       "      <th></th>\n",
       "      <th>order</th>\n",
       "      <th>name</th>\n",
       "      <th>meaning</th>\n",
       "      <th>notes</th>\n",
       "      <th>dtype</th>\n",
       "    </tr>\n",
       "  </thead>\n",
       "  <tbody>\n",
       "    <tr>\n",
       "      <th>0</th>\n",
       "      <td>1</td>\n",
       "      <td>school</td>\n",
       "      <td>student's school</td>\n",
       "      <td>binary: 'GP' - Gabriel Pereira or 'MS' - Mousi...</td>\n",
       "      <td>object</td>\n",
       "    </tr>\n",
       "    <tr>\n",
       "      <th>1</th>\n",
       "      <td>2</td>\n",
       "      <td>sex</td>\n",
       "      <td>student's sex</td>\n",
       "      <td>binary: 'F' - female or 'M' - male</td>\n",
       "      <td>object</td>\n",
       "    </tr>\n",
       "    <tr>\n",
       "      <th>2</th>\n",
       "      <td>3</td>\n",
       "      <td>age</td>\n",
       "      <td>student's age</td>\n",
       "      <td>numeric: from 15 to 22</td>\n",
       "      <td>int64</td>\n",
       "    </tr>\n",
       "    <tr>\n",
       "      <th>3</th>\n",
       "      <td>4</td>\n",
       "      <td>address</td>\n",
       "      <td>student's home address type</td>\n",
       "      <td>binary: 'U' - urban or 'R' - rural</td>\n",
       "      <td>object</td>\n",
       "    </tr>\n",
       "    <tr>\n",
       "      <th>4</th>\n",
       "      <td>5</td>\n",
       "      <td>famsize</td>\n",
       "      <td>family size</td>\n",
       "      <td>binary: 'LE3' - less or equal to 3 or 'GT3' - ...</td>\n",
       "      <td>object</td>\n",
       "    </tr>\n",
       "    <tr>\n",
       "      <th>5</th>\n",
       "      <td>6</td>\n",
       "      <td>Pstatus</td>\n",
       "      <td>parent's cohabitation status</td>\n",
       "      <td>binary: 'T' - living together or 'A' - apart</td>\n",
       "      <td>object</td>\n",
       "    </tr>\n",
       "    <tr>\n",
       "      <th>6</th>\n",
       "      <td>7</td>\n",
       "      <td>Medu</td>\n",
       "      <td>mother's education</td>\n",
       "      <td>numeric: 0 - none, 1 - primary education 4th g...</td>\n",
       "      <td>int64</td>\n",
       "    </tr>\n",
       "    <tr>\n",
       "      <th>7</th>\n",
       "      <td>8</td>\n",
       "      <td>Fedu</td>\n",
       "      <td>father's education</td>\n",
       "      <td>numeric: 0 - none, 1 - primary education 4th g...</td>\n",
       "      <td>int64</td>\n",
       "    </tr>\n",
       "    <tr>\n",
       "      <th>8</th>\n",
       "      <td>9</td>\n",
       "      <td>Mjob</td>\n",
       "      <td>mother's job</td>\n",
       "      <td>nominal: 'teacher', 'health' care related, civ...</td>\n",
       "      <td>object</td>\n",
       "    </tr>\n",
       "    <tr>\n",
       "      <th>9</th>\n",
       "      <td>10</td>\n",
       "      <td>Fjob</td>\n",
       "      <td>father's job</td>\n",
       "      <td>nominal: 'teacher', 'health' care related, civ...</td>\n",
       "      <td>object</td>\n",
       "    </tr>\n",
       "    <tr>\n",
       "      <th>10</th>\n",
       "      <td>11</td>\n",
       "      <td>reason</td>\n",
       "      <td>reason to choose this school</td>\n",
       "      <td>nominal: close to 'home', school 'reputation',...</td>\n",
       "      <td>object</td>\n",
       "    </tr>\n",
       "    <tr>\n",
       "      <th>11</th>\n",
       "      <td>12</td>\n",
       "      <td>guardian</td>\n",
       "      <td>student's guardian</td>\n",
       "      <td>nominal: 'mother', 'father' or 'other'</td>\n",
       "      <td>object</td>\n",
       "    </tr>\n",
       "    <tr>\n",
       "      <th>12</th>\n",
       "      <td>13</td>\n",
       "      <td>traveltime</td>\n",
       "      <td>home to school travel time</td>\n",
       "      <td>numeric: 1 - &lt;15 min., 2 - 15 to 30 min., 3 - ...</td>\n",
       "      <td>int64</td>\n",
       "    </tr>\n",
       "    <tr>\n",
       "      <th>13</th>\n",
       "      <td>14</td>\n",
       "      <td>studytime</td>\n",
       "      <td>weekly study time</td>\n",
       "      <td>numeric: 1 - &lt;2 hours, 2 - 2 to 5 hours, 3 - 5...</td>\n",
       "      <td>int64</td>\n",
       "    </tr>\n",
       "    <tr>\n",
       "      <th>14</th>\n",
       "      <td>15</td>\n",
       "      <td>failures</td>\n",
       "      <td>number of past class failures</td>\n",
       "      <td>numeric: n if 1&lt;=n&lt;3, else 4</td>\n",
       "      <td>int64</td>\n",
       "    </tr>\n",
       "    <tr>\n",
       "      <th>15</th>\n",
       "      <td>16</td>\n",
       "      <td>schoolsup</td>\n",
       "      <td>extra educational support</td>\n",
       "      <td>binary: yes or no</td>\n",
       "      <td>object</td>\n",
       "    </tr>\n",
       "    <tr>\n",
       "      <th>16</th>\n",
       "      <td>17</td>\n",
       "      <td>famsup</td>\n",
       "      <td>family educational support</td>\n",
       "      <td>binary: yes or no</td>\n",
       "      <td>object</td>\n",
       "    </tr>\n",
       "    <tr>\n",
       "      <th>17</th>\n",
       "      <td>18</td>\n",
       "      <td>paid</td>\n",
       "      <td>extra paid classes within the course subject</td>\n",
       "      <td>Math or Portuguese binary: yes or no</td>\n",
       "      <td>object</td>\n",
       "    </tr>\n",
       "    <tr>\n",
       "      <th>18</th>\n",
       "      <td>19</td>\n",
       "      <td>activities</td>\n",
       "      <td>extra curricular activities</td>\n",
       "      <td>binary: yes or no</td>\n",
       "      <td>object</td>\n",
       "    </tr>\n",
       "    <tr>\n",
       "      <th>19</th>\n",
       "      <td>20</td>\n",
       "      <td>nursery</td>\n",
       "      <td>attended nursery school</td>\n",
       "      <td>binary: yes or no</td>\n",
       "      <td>object</td>\n",
       "    </tr>\n",
       "    <tr>\n",
       "      <th>20</th>\n",
       "      <td>21</td>\n",
       "      <td>higher</td>\n",
       "      <td>wants to take higher education</td>\n",
       "      <td>binary: yes or no</td>\n",
       "      <td>object</td>\n",
       "    </tr>\n",
       "    <tr>\n",
       "      <th>21</th>\n",
       "      <td>22</td>\n",
       "      <td>internet</td>\n",
       "      <td>Internet access at home</td>\n",
       "      <td>binary: yes or no</td>\n",
       "      <td>object</td>\n",
       "    </tr>\n",
       "    <tr>\n",
       "      <th>22</th>\n",
       "      <td>23</td>\n",
       "      <td>romantic</td>\n",
       "      <td>with a romantic relationship</td>\n",
       "      <td>binary: yes or no</td>\n",
       "      <td>object</td>\n",
       "    </tr>\n",
       "    <tr>\n",
       "      <th>23</th>\n",
       "      <td>24</td>\n",
       "      <td>famrel</td>\n",
       "      <td>quality of family relationships</td>\n",
       "      <td>numeric: from 1 - very bad to 5 - excellent</td>\n",
       "      <td>int64</td>\n",
       "    </tr>\n",
       "    <tr>\n",
       "      <th>24</th>\n",
       "      <td>25</td>\n",
       "      <td>freetime</td>\n",
       "      <td>free time after school</td>\n",
       "      <td>numeric: from 1 - very low to 5 - very high</td>\n",
       "      <td>int64</td>\n",
       "    </tr>\n",
       "    <tr>\n",
       "      <th>25</th>\n",
       "      <td>26</td>\n",
       "      <td>goout</td>\n",
       "      <td>going out with friends</td>\n",
       "      <td>numeric: from 1 - very low to 5 - very high</td>\n",
       "      <td>int64</td>\n",
       "    </tr>\n",
       "    <tr>\n",
       "      <th>26</th>\n",
       "      <td>27</td>\n",
       "      <td>Dalc</td>\n",
       "      <td>workday alcohol consumption</td>\n",
       "      <td>numeric: from 1 - very low to 5 - very high</td>\n",
       "      <td>int64</td>\n",
       "    </tr>\n",
       "    <tr>\n",
       "      <th>27</th>\n",
       "      <td>28</td>\n",
       "      <td>Walc</td>\n",
       "      <td>weekend alcohol consumption</td>\n",
       "      <td>numeric: from 1 - very low to 5 - very high</td>\n",
       "      <td>int64</td>\n",
       "    </tr>\n",
       "    <tr>\n",
       "      <th>28</th>\n",
       "      <td>29</td>\n",
       "      <td>health</td>\n",
       "      <td>current health status</td>\n",
       "      <td>numeric: from 1 - very bad to 5 - very good</td>\n",
       "      <td>int64</td>\n",
       "    </tr>\n",
       "    <tr>\n",
       "      <th>29</th>\n",
       "      <td>30</td>\n",
       "      <td>absences</td>\n",
       "      <td>number of school absences</td>\n",
       "      <td>numeric: from 0 to 93</td>\n",
       "      <td>int64</td>\n",
       "    </tr>\n",
       "    <tr>\n",
       "      <th>30</th>\n",
       "      <td>31</td>\n",
       "      <td>G1</td>\n",
       "      <td>first period grade</td>\n",
       "      <td>numeric: from 0 to 20</td>\n",
       "      <td>int64</td>\n",
       "    </tr>\n",
       "    <tr>\n",
       "      <th>31</th>\n",
       "      <td>31</td>\n",
       "      <td>G2</td>\n",
       "      <td>second period grade</td>\n",
       "      <td>numeric: from 0 to 20</td>\n",
       "      <td>int64</td>\n",
       "    </tr>\n",
       "    <tr>\n",
       "      <th>32</th>\n",
       "      <td>32</td>\n",
       "      <td>G3</td>\n",
       "      <td>final grade</td>\n",
       "      <td>numeric: from 0 to 20, output target</td>\n",
       "      <td>int64</td>\n",
       "    </tr>\n",
       "  </tbody>\n",
       "</table>\n",
       "</div>"
      ],
      "text/plain": [
       "    order        name                                         meaning  \\\n",
       "0       1      school                               student's school    \n",
       "1       2         sex                                  student's sex    \n",
       "2       3         age                                  student's age    \n",
       "3       4     address                    student's home address type    \n",
       "4       5     famsize                                    family size    \n",
       "5       6     Pstatus                   parent's cohabitation status    \n",
       "6       7        Medu                             mother's education    \n",
       "7       8        Fedu                             father's education    \n",
       "8       9        Mjob                                   mother's job    \n",
       "9      10        Fjob                                   father's job    \n",
       "10     11      reason                   reason to choose this school    \n",
       "11     12    guardian                             student's guardian    \n",
       "12     13  traveltime                     home to school travel time    \n",
       "13     14   studytime                              weekly study time    \n",
       "14     15    failures                  number of past class failures    \n",
       "15     16   schoolsup                      extra educational support    \n",
       "16     17      famsup                     family educational support    \n",
       "17     18        paid   extra paid classes within the course subject    \n",
       "18     19  activities                    extra curricular activities    \n",
       "19     20     nursery                        attended nursery school    \n",
       "20     21      higher                 wants to take higher education    \n",
       "21     22    internet                        Internet access at home    \n",
       "22     23    romantic                   with a romantic relationship    \n",
       "23     24      famrel                quality of family relationships    \n",
       "24     25    freetime                         free time after school    \n",
       "25     26       goout                         going out with friends    \n",
       "26     27        Dalc                    workday alcohol consumption    \n",
       "27     28        Walc                    weekend alcohol consumption    \n",
       "28     29      health                          current health status    \n",
       "29     30    absences                      number of school absences    \n",
       "30     31          G1                             first period grade    \n",
       "31     31          G2                            second period grade    \n",
       "32     32          G3                                    final grade    \n",
       "\n",
       "                                                notes   dtype  \n",
       "0   binary: 'GP' - Gabriel Pereira or 'MS' - Mousi...  object  \n",
       "1                  binary: 'F' - female or 'M' - male  object  \n",
       "2                              numeric: from 15 to 22   int64  \n",
       "3                  binary: 'U' - urban or 'R' - rural  object  \n",
       "4   binary: 'LE3' - less or equal to 3 or 'GT3' - ...  object  \n",
       "5        binary: 'T' - living together or 'A' - apart  object  \n",
       "6   numeric: 0 - none, 1 - primary education 4th g...   int64  \n",
       "7   numeric: 0 - none, 1 - primary education 4th g...   int64  \n",
       "8   nominal: 'teacher', 'health' care related, civ...  object  \n",
       "9   nominal: 'teacher', 'health' care related, civ...  object  \n",
       "10  nominal: close to 'home', school 'reputation',...  object  \n",
       "11             nominal: 'mother', 'father' or 'other'  object  \n",
       "12  numeric: 1 - <15 min., 2 - 15 to 30 min., 3 - ...   int64  \n",
       "13  numeric: 1 - <2 hours, 2 - 2 to 5 hours, 3 - 5...   int64  \n",
       "14                       numeric: n if 1<=n<3, else 4   int64  \n",
       "15                                  binary: yes or no  object  \n",
       "16                                  binary: yes or no  object  \n",
       "17               Math or Portuguese binary: yes or no  object  \n",
       "18                                  binary: yes or no  object  \n",
       "19                                  binary: yes or no  object  \n",
       "20                                  binary: yes or no  object  \n",
       "21                                  binary: yes or no  object  \n",
       "22                                  binary: yes or no  object  \n",
       "23        numeric: from 1 - very bad to 5 - excellent   int64  \n",
       "24        numeric: from 1 - very low to 5 - very high   int64  \n",
       "25        numeric: from 1 - very low to 5 - very high   int64  \n",
       "26        numeric: from 1 - very low to 5 - very high   int64  \n",
       "27        numeric: from 1 - very low to 5 - very high   int64  \n",
       "28        numeric: from 1 - very bad to 5 - very good   int64  \n",
       "29                              numeric: from 0 to 93   int64  \n",
       "30                              numeric: from 0 to 20   int64  \n",
       "31                              numeric: from 0 to 20   int64  \n",
       "32               numeric: from 0 to 20, output target   int64  "
      ]
     },
     "execution_count": 3,
     "metadata": {},
     "output_type": "execute_result"
    }
   ],
   "source": [
    "col_info = pd.read_csv('../data/data_columns.csv')\n",
    "col_info['dtype'] = student_data.dtypes.values\n",
    "col_info"
   ]
  },
  {
   "cell_type": "markdown",
   "metadata": {},
   "source": [
    "## 4.5 Create dummy features for categorical variables<a id='4.5'></a>"
   ]
  },
  {
   "cell_type": "markdown",
   "metadata": {},
   "source": [
    "The Col_info dataframe shows that all the \"object\" variables are either nominal or binary. Therefore, we only create dummy features for these variables."
   ]
  },
  {
   "cell_type": "code",
   "execution_count": 4,
   "metadata": {},
   "outputs": [
    {
     "name": "stdout",
     "output_type": "stream",
     "text": [
      "(357, 59)\n"
     ]
    },
    {
     "data": {
      "text/html": [
       "<div>\n",
       "<style scoped>\n",
       "    .dataframe tbody tr th:only-of-type {\n",
       "        vertical-align: middle;\n",
       "    }\n",
       "\n",
       "    .dataframe tbody tr th {\n",
       "        vertical-align: top;\n",
       "    }\n",
       "\n",
       "    .dataframe thead th {\n",
       "        text-align: right;\n",
       "    }\n",
       "</style>\n",
       "<table border=\"1\" class=\"dataframe\">\n",
       "  <thead>\n",
       "    <tr style=\"text-align: right;\">\n",
       "      <th></th>\n",
       "      <th>0</th>\n",
       "      <th>1</th>\n",
       "      <th>2</th>\n",
       "      <th>3</th>\n",
       "      <th>4</th>\n",
       "    </tr>\n",
       "  </thead>\n",
       "  <tbody>\n",
       "    <tr>\n",
       "      <th>age</th>\n",
       "      <td>18</td>\n",
       "      <td>17</td>\n",
       "      <td>15</td>\n",
       "      <td>15</td>\n",
       "      <td>16</td>\n",
       "    </tr>\n",
       "    <tr>\n",
       "      <th>Medu</th>\n",
       "      <td>4</td>\n",
       "      <td>1</td>\n",
       "      <td>1</td>\n",
       "      <td>4</td>\n",
       "      <td>3</td>\n",
       "    </tr>\n",
       "    <tr>\n",
       "      <th>Fedu</th>\n",
       "      <td>4</td>\n",
       "      <td>1</td>\n",
       "      <td>1</td>\n",
       "      <td>2</td>\n",
       "      <td>3</td>\n",
       "    </tr>\n",
       "    <tr>\n",
       "      <th>traveltime</th>\n",
       "      <td>2</td>\n",
       "      <td>1</td>\n",
       "      <td>1</td>\n",
       "      <td>1</td>\n",
       "      <td>1</td>\n",
       "    </tr>\n",
       "    <tr>\n",
       "      <th>studytime</th>\n",
       "      <td>2</td>\n",
       "      <td>2</td>\n",
       "      <td>2</td>\n",
       "      <td>3</td>\n",
       "      <td>2</td>\n",
       "    </tr>\n",
       "    <tr>\n",
       "      <th>failures</th>\n",
       "      <td>0</td>\n",
       "      <td>0</td>\n",
       "      <td>3</td>\n",
       "      <td>0</td>\n",
       "      <td>0</td>\n",
       "    </tr>\n",
       "    <tr>\n",
       "      <th>famrel</th>\n",
       "      <td>4</td>\n",
       "      <td>5</td>\n",
       "      <td>4</td>\n",
       "      <td>3</td>\n",
       "      <td>4</td>\n",
       "    </tr>\n",
       "    <tr>\n",
       "      <th>freetime</th>\n",
       "      <td>3</td>\n",
       "      <td>3</td>\n",
       "      <td>3</td>\n",
       "      <td>2</td>\n",
       "      <td>3</td>\n",
       "    </tr>\n",
       "    <tr>\n",
       "      <th>goout</th>\n",
       "      <td>4</td>\n",
       "      <td>3</td>\n",
       "      <td>2</td>\n",
       "      <td>2</td>\n",
       "      <td>2</td>\n",
       "    </tr>\n",
       "    <tr>\n",
       "      <th>Dalc</th>\n",
       "      <td>1</td>\n",
       "      <td>1</td>\n",
       "      <td>2</td>\n",
       "      <td>1</td>\n",
       "      <td>1</td>\n",
       "    </tr>\n",
       "    <tr>\n",
       "      <th>Walc</th>\n",
       "      <td>1</td>\n",
       "      <td>1</td>\n",
       "      <td>3</td>\n",
       "      <td>1</td>\n",
       "      <td>2</td>\n",
       "    </tr>\n",
       "    <tr>\n",
       "      <th>health</th>\n",
       "      <td>3</td>\n",
       "      <td>3</td>\n",
       "      <td>3</td>\n",
       "      <td>5</td>\n",
       "      <td>5</td>\n",
       "    </tr>\n",
       "    <tr>\n",
       "      <th>absences</th>\n",
       "      <td>6</td>\n",
       "      <td>4</td>\n",
       "      <td>10</td>\n",
       "      <td>2</td>\n",
       "      <td>4</td>\n",
       "    </tr>\n",
       "    <tr>\n",
       "      <th>G1</th>\n",
       "      <td>5</td>\n",
       "      <td>5</td>\n",
       "      <td>7</td>\n",
       "      <td>15</td>\n",
       "      <td>6</td>\n",
       "    </tr>\n",
       "    <tr>\n",
       "      <th>G2</th>\n",
       "      <td>6</td>\n",
       "      <td>5</td>\n",
       "      <td>8</td>\n",
       "      <td>14</td>\n",
       "      <td>10</td>\n",
       "    </tr>\n",
       "    <tr>\n",
       "      <th>G3</th>\n",
       "      <td>6</td>\n",
       "      <td>6</td>\n",
       "      <td>10</td>\n",
       "      <td>15</td>\n",
       "      <td>10</td>\n",
       "    </tr>\n",
       "    <tr>\n",
       "      <th>school_GP</th>\n",
       "      <td>1</td>\n",
       "      <td>1</td>\n",
       "      <td>1</td>\n",
       "      <td>1</td>\n",
       "      <td>1</td>\n",
       "    </tr>\n",
       "    <tr>\n",
       "      <th>school_MS</th>\n",
       "      <td>0</td>\n",
       "      <td>0</td>\n",
       "      <td>0</td>\n",
       "      <td>0</td>\n",
       "      <td>0</td>\n",
       "    </tr>\n",
       "    <tr>\n",
       "      <th>sex_F</th>\n",
       "      <td>1</td>\n",
       "      <td>1</td>\n",
       "      <td>1</td>\n",
       "      <td>1</td>\n",
       "      <td>1</td>\n",
       "    </tr>\n",
       "    <tr>\n",
       "      <th>sex_M</th>\n",
       "      <td>0</td>\n",
       "      <td>0</td>\n",
       "      <td>0</td>\n",
       "      <td>0</td>\n",
       "      <td>0</td>\n",
       "    </tr>\n",
       "    <tr>\n",
       "      <th>address_R</th>\n",
       "      <td>0</td>\n",
       "      <td>0</td>\n",
       "      <td>0</td>\n",
       "      <td>0</td>\n",
       "      <td>0</td>\n",
       "    </tr>\n",
       "    <tr>\n",
       "      <th>address_U</th>\n",
       "      <td>1</td>\n",
       "      <td>1</td>\n",
       "      <td>1</td>\n",
       "      <td>1</td>\n",
       "      <td>1</td>\n",
       "    </tr>\n",
       "    <tr>\n",
       "      <th>famsize_GT3</th>\n",
       "      <td>1</td>\n",
       "      <td>1</td>\n",
       "      <td>0</td>\n",
       "      <td>1</td>\n",
       "      <td>1</td>\n",
       "    </tr>\n",
       "    <tr>\n",
       "      <th>famsize_LE3</th>\n",
       "      <td>0</td>\n",
       "      <td>0</td>\n",
       "      <td>1</td>\n",
       "      <td>0</td>\n",
       "      <td>0</td>\n",
       "    </tr>\n",
       "    <tr>\n",
       "      <th>Pstatus_A</th>\n",
       "      <td>1</td>\n",
       "      <td>0</td>\n",
       "      <td>0</td>\n",
       "      <td>0</td>\n",
       "      <td>0</td>\n",
       "    </tr>\n",
       "    <tr>\n",
       "      <th>Pstatus_T</th>\n",
       "      <td>0</td>\n",
       "      <td>1</td>\n",
       "      <td>1</td>\n",
       "      <td>1</td>\n",
       "      <td>1</td>\n",
       "    </tr>\n",
       "    <tr>\n",
       "      <th>Mjob_at_home</th>\n",
       "      <td>1</td>\n",
       "      <td>1</td>\n",
       "      <td>1</td>\n",
       "      <td>0</td>\n",
       "      <td>0</td>\n",
       "    </tr>\n",
       "    <tr>\n",
       "      <th>Mjob_health</th>\n",
       "      <td>0</td>\n",
       "      <td>0</td>\n",
       "      <td>0</td>\n",
       "      <td>1</td>\n",
       "      <td>0</td>\n",
       "    </tr>\n",
       "    <tr>\n",
       "      <th>Mjob_other</th>\n",
       "      <td>0</td>\n",
       "      <td>0</td>\n",
       "      <td>0</td>\n",
       "      <td>0</td>\n",
       "      <td>1</td>\n",
       "    </tr>\n",
       "    <tr>\n",
       "      <th>Mjob_services</th>\n",
       "      <td>0</td>\n",
       "      <td>0</td>\n",
       "      <td>0</td>\n",
       "      <td>0</td>\n",
       "      <td>0</td>\n",
       "    </tr>\n",
       "    <tr>\n",
       "      <th>Mjob_teacher</th>\n",
       "      <td>0</td>\n",
       "      <td>0</td>\n",
       "      <td>0</td>\n",
       "      <td>0</td>\n",
       "      <td>0</td>\n",
       "    </tr>\n",
       "    <tr>\n",
       "      <th>Fjob_at_home</th>\n",
       "      <td>0</td>\n",
       "      <td>0</td>\n",
       "      <td>0</td>\n",
       "      <td>0</td>\n",
       "      <td>0</td>\n",
       "    </tr>\n",
       "    <tr>\n",
       "      <th>Fjob_health</th>\n",
       "      <td>0</td>\n",
       "      <td>0</td>\n",
       "      <td>0</td>\n",
       "      <td>0</td>\n",
       "      <td>0</td>\n",
       "    </tr>\n",
       "    <tr>\n",
       "      <th>Fjob_other</th>\n",
       "      <td>0</td>\n",
       "      <td>1</td>\n",
       "      <td>1</td>\n",
       "      <td>0</td>\n",
       "      <td>1</td>\n",
       "    </tr>\n",
       "    <tr>\n",
       "      <th>Fjob_services</th>\n",
       "      <td>0</td>\n",
       "      <td>0</td>\n",
       "      <td>0</td>\n",
       "      <td>1</td>\n",
       "      <td>0</td>\n",
       "    </tr>\n",
       "    <tr>\n",
       "      <th>Fjob_teacher</th>\n",
       "      <td>1</td>\n",
       "      <td>0</td>\n",
       "      <td>0</td>\n",
       "      <td>0</td>\n",
       "      <td>0</td>\n",
       "    </tr>\n",
       "    <tr>\n",
       "      <th>reason_course</th>\n",
       "      <td>1</td>\n",
       "      <td>1</td>\n",
       "      <td>0</td>\n",
       "      <td>0</td>\n",
       "      <td>0</td>\n",
       "    </tr>\n",
       "    <tr>\n",
       "      <th>reason_home</th>\n",
       "      <td>0</td>\n",
       "      <td>0</td>\n",
       "      <td>0</td>\n",
       "      <td>1</td>\n",
       "      <td>1</td>\n",
       "    </tr>\n",
       "    <tr>\n",
       "      <th>reason_other</th>\n",
       "      <td>0</td>\n",
       "      <td>0</td>\n",
       "      <td>1</td>\n",
       "      <td>0</td>\n",
       "      <td>0</td>\n",
       "    </tr>\n",
       "    <tr>\n",
       "      <th>reason_reputation</th>\n",
       "      <td>0</td>\n",
       "      <td>0</td>\n",
       "      <td>0</td>\n",
       "      <td>0</td>\n",
       "      <td>0</td>\n",
       "    </tr>\n",
       "    <tr>\n",
       "      <th>guardian_father</th>\n",
       "      <td>0</td>\n",
       "      <td>1</td>\n",
       "      <td>0</td>\n",
       "      <td>0</td>\n",
       "      <td>1</td>\n",
       "    </tr>\n",
       "    <tr>\n",
       "      <th>guardian_mother</th>\n",
       "      <td>1</td>\n",
       "      <td>0</td>\n",
       "      <td>1</td>\n",
       "      <td>1</td>\n",
       "      <td>0</td>\n",
       "    </tr>\n",
       "    <tr>\n",
       "      <th>guardian_other</th>\n",
       "      <td>0</td>\n",
       "      <td>0</td>\n",
       "      <td>0</td>\n",
       "      <td>0</td>\n",
       "      <td>0</td>\n",
       "    </tr>\n",
       "    <tr>\n",
       "      <th>schoolsup_no</th>\n",
       "      <td>0</td>\n",
       "      <td>1</td>\n",
       "      <td>0</td>\n",
       "      <td>1</td>\n",
       "      <td>1</td>\n",
       "    </tr>\n",
       "    <tr>\n",
       "      <th>schoolsup_yes</th>\n",
       "      <td>1</td>\n",
       "      <td>0</td>\n",
       "      <td>1</td>\n",
       "      <td>0</td>\n",
       "      <td>0</td>\n",
       "    </tr>\n",
       "    <tr>\n",
       "      <th>famsup_no</th>\n",
       "      <td>1</td>\n",
       "      <td>0</td>\n",
       "      <td>1</td>\n",
       "      <td>0</td>\n",
       "      <td>0</td>\n",
       "    </tr>\n",
       "    <tr>\n",
       "      <th>famsup_yes</th>\n",
       "      <td>0</td>\n",
       "      <td>1</td>\n",
       "      <td>0</td>\n",
       "      <td>1</td>\n",
       "      <td>1</td>\n",
       "    </tr>\n",
       "    <tr>\n",
       "      <th>paid_no</th>\n",
       "      <td>1</td>\n",
       "      <td>1</td>\n",
       "      <td>0</td>\n",
       "      <td>0</td>\n",
       "      <td>0</td>\n",
       "    </tr>\n",
       "    <tr>\n",
       "      <th>paid_yes</th>\n",
       "      <td>0</td>\n",
       "      <td>0</td>\n",
       "      <td>1</td>\n",
       "      <td>1</td>\n",
       "      <td>1</td>\n",
       "    </tr>\n",
       "    <tr>\n",
       "      <th>activities_no</th>\n",
       "      <td>1</td>\n",
       "      <td>1</td>\n",
       "      <td>1</td>\n",
       "      <td>0</td>\n",
       "      <td>1</td>\n",
       "    </tr>\n",
       "    <tr>\n",
       "      <th>activities_yes</th>\n",
       "      <td>0</td>\n",
       "      <td>0</td>\n",
       "      <td>0</td>\n",
       "      <td>1</td>\n",
       "      <td>0</td>\n",
       "    </tr>\n",
       "    <tr>\n",
       "      <th>nursery_no</th>\n",
       "      <td>0</td>\n",
       "      <td>1</td>\n",
       "      <td>0</td>\n",
       "      <td>0</td>\n",
       "      <td>0</td>\n",
       "    </tr>\n",
       "    <tr>\n",
       "      <th>nursery_yes</th>\n",
       "      <td>1</td>\n",
       "      <td>0</td>\n",
       "      <td>1</td>\n",
       "      <td>1</td>\n",
       "      <td>1</td>\n",
       "    </tr>\n",
       "    <tr>\n",
       "      <th>higher_no</th>\n",
       "      <td>0</td>\n",
       "      <td>0</td>\n",
       "      <td>0</td>\n",
       "      <td>0</td>\n",
       "      <td>0</td>\n",
       "    </tr>\n",
       "    <tr>\n",
       "      <th>higher_yes</th>\n",
       "      <td>1</td>\n",
       "      <td>1</td>\n",
       "      <td>1</td>\n",
       "      <td>1</td>\n",
       "      <td>1</td>\n",
       "    </tr>\n",
       "    <tr>\n",
       "      <th>internet_no</th>\n",
       "      <td>1</td>\n",
       "      <td>0</td>\n",
       "      <td>0</td>\n",
       "      <td>0</td>\n",
       "      <td>1</td>\n",
       "    </tr>\n",
       "    <tr>\n",
       "      <th>internet_yes</th>\n",
       "      <td>0</td>\n",
       "      <td>1</td>\n",
       "      <td>1</td>\n",
       "      <td>1</td>\n",
       "      <td>0</td>\n",
       "    </tr>\n",
       "    <tr>\n",
       "      <th>romantic_no</th>\n",
       "      <td>1</td>\n",
       "      <td>1</td>\n",
       "      <td>1</td>\n",
       "      <td>0</td>\n",
       "      <td>1</td>\n",
       "    </tr>\n",
       "    <tr>\n",
       "      <th>romantic_yes</th>\n",
       "      <td>0</td>\n",
       "      <td>0</td>\n",
       "      <td>0</td>\n",
       "      <td>1</td>\n",
       "      <td>0</td>\n",
       "    </tr>\n",
       "  </tbody>\n",
       "</table>\n",
       "</div>"
      ],
      "text/plain": [
       "                    0   1   2   3   4\n",
       "age                18  17  15  15  16\n",
       "Medu                4   1   1   4   3\n",
       "Fedu                4   1   1   2   3\n",
       "traveltime          2   1   1   1   1\n",
       "studytime           2   2   2   3   2\n",
       "failures            0   0   3   0   0\n",
       "famrel              4   5   4   3   4\n",
       "freetime            3   3   3   2   3\n",
       "goout               4   3   2   2   2\n",
       "Dalc                1   1   2   1   1\n",
       "Walc                1   1   3   1   2\n",
       "health              3   3   3   5   5\n",
       "absences            6   4  10   2   4\n",
       "G1                  5   5   7  15   6\n",
       "G2                  6   5   8  14  10\n",
       "G3                  6   6  10  15  10\n",
       "school_GP           1   1   1   1   1\n",
       "school_MS           0   0   0   0   0\n",
       "sex_F               1   1   1   1   1\n",
       "sex_M               0   0   0   0   0\n",
       "address_R           0   0   0   0   0\n",
       "address_U           1   1   1   1   1\n",
       "famsize_GT3         1   1   0   1   1\n",
       "famsize_LE3         0   0   1   0   0\n",
       "Pstatus_A           1   0   0   0   0\n",
       "Pstatus_T           0   1   1   1   1\n",
       "Mjob_at_home        1   1   1   0   0\n",
       "Mjob_health         0   0   0   1   0\n",
       "Mjob_other          0   0   0   0   1\n",
       "Mjob_services       0   0   0   0   0\n",
       "Mjob_teacher        0   0   0   0   0\n",
       "Fjob_at_home        0   0   0   0   0\n",
       "Fjob_health         0   0   0   0   0\n",
       "Fjob_other          0   1   1   0   1\n",
       "Fjob_services       0   0   0   1   0\n",
       "Fjob_teacher        1   0   0   0   0\n",
       "reason_course       1   1   0   0   0\n",
       "reason_home         0   0   0   1   1\n",
       "reason_other        0   0   1   0   0\n",
       "reason_reputation   0   0   0   0   0\n",
       "guardian_father     0   1   0   0   1\n",
       "guardian_mother     1   0   1   1   0\n",
       "guardian_other      0   0   0   0   0\n",
       "schoolsup_no        0   1   0   1   1\n",
       "schoolsup_yes       1   0   1   0   0\n",
       "famsup_no           1   0   1   0   0\n",
       "famsup_yes          0   1   0   1   1\n",
       "paid_no             1   1   0   0   0\n",
       "paid_yes            0   0   1   1   1\n",
       "activities_no       1   1   1   0   1\n",
       "activities_yes      0   0   0   1   0\n",
       "nursery_no          0   1   0   0   0\n",
       "nursery_yes         1   0   1   1   1\n",
       "higher_no           0   0   0   0   0\n",
       "higher_yes          1   1   1   1   1\n",
       "internet_no         1   0   0   0   1\n",
       "internet_yes        0   1   1   1   0\n",
       "romantic_no         1   1   1   0   1\n",
       "romantic_yes        0   0   0   1   0"
      ]
     },
     "execution_count": 4,
     "metadata": {},
     "output_type": "execute_result"
    }
   ],
   "source": [
    "data_dummies = pd.get_dummies(student_data)\n",
    "print(data_dummies.shape)\n",
    "data_dummies.head().T"
   ]
  },
  {
   "cell_type": "code",
   "execution_count": 5,
   "metadata": {},
   "outputs": [
    {
     "data": {
      "text/plain": [
       "age                  int64\n",
       "Medu                 int64\n",
       "Fedu                 int64\n",
       "traveltime           int64\n",
       "studytime            int64\n",
       "failures             int64\n",
       "famrel               int64\n",
       "freetime             int64\n",
       "goout                int64\n",
       "Dalc                 int64\n",
       "Walc                 int64\n",
       "health               int64\n",
       "absences             int64\n",
       "G1                   int64\n",
       "G2                   int64\n",
       "G3                   int64\n",
       "school_GP            uint8\n",
       "school_MS            uint8\n",
       "sex_F                uint8\n",
       "sex_M                uint8\n",
       "address_R            uint8\n",
       "address_U            uint8\n",
       "famsize_GT3          uint8\n",
       "famsize_LE3          uint8\n",
       "Pstatus_A            uint8\n",
       "Pstatus_T            uint8\n",
       "Mjob_at_home         uint8\n",
       "Mjob_health          uint8\n",
       "Mjob_other           uint8\n",
       "Mjob_services        uint8\n",
       "Mjob_teacher         uint8\n",
       "Fjob_at_home         uint8\n",
       "Fjob_health          uint8\n",
       "Fjob_other           uint8\n",
       "Fjob_services        uint8\n",
       "Fjob_teacher         uint8\n",
       "reason_course        uint8\n",
       "reason_home          uint8\n",
       "reason_other         uint8\n",
       "reason_reputation    uint8\n",
       "guardian_father      uint8\n",
       "guardian_mother      uint8\n",
       "guardian_other       uint8\n",
       "schoolsup_no         uint8\n",
       "schoolsup_yes        uint8\n",
       "famsup_no            uint8\n",
       "famsup_yes           uint8\n",
       "paid_no              uint8\n",
       "paid_yes             uint8\n",
       "activities_no        uint8\n",
       "activities_yes       uint8\n",
       "nursery_no           uint8\n",
       "nursery_yes          uint8\n",
       "higher_no            uint8\n",
       "higher_yes           uint8\n",
       "internet_no          uint8\n",
       "internet_yes         uint8\n",
       "romantic_no          uint8\n",
       "romantic_yes         uint8\n",
       "dtype: object"
      ]
     },
     "execution_count": 5,
     "metadata": {},
     "output_type": "execute_result"
    }
   ],
   "source": [
    "data_dummies.dtypes"
   ]
  },
  {
   "cell_type": "markdown",
   "metadata": {},
   "source": [
    "## 4.6 Train/Test Split<a id='4.6_Train/Test_Split'></a>"
   ]
  },
  {
   "cell_type": "markdown",
   "metadata": {},
   "source": [
    "Create X, y variables for train/test split. \n",
    "- Because G3 is strongly related to G1 and G2, the weights of these two variables are way hihger than than other variables. Therefore, we remove these two feature from the X."
   ]
  },
  {
   "cell_type": "code",
   "execution_count": 6,
   "metadata": {},
   "outputs": [
    {
     "name": "stdout",
     "output_type": "stream",
     "text": [
      "(357, 56) \n",
      " (357,)\n"
     ]
    }
   ],
   "source": [
    "# X0 is generated for comparison\n",
    "X0 = data_dummies.drop(columns = ['G3'])\n",
    "X = data_dummies.drop(columns = ['G1','G2','G3'])\n",
    "y = data_dummies['G3']\n",
    "print(X.shape,'\\n', y.shape)"
   ]
  },
  {
   "cell_type": "markdown",
   "metadata": {},
   "source": [
    "We will split the data with test_size = 0.25, i.e., training uses 75% of data."
   ]
  },
  {
   "cell_type": "code",
   "execution_count": 7,
   "metadata": {},
   "outputs": [],
   "source": [
    "X_train, X_test, y_train, y_test = train_test_split(X, y, test_size=0.25, random_state=47)\n",
    "X0_train, X0_test, y0_train, y0_test = train_test_split(X0, y, test_size=0.25, random_state=47)"
   ]
  },
  {
   "cell_type": "code",
   "execution_count": 8,
   "metadata": {},
   "outputs": [
    {
     "name": "stdout",
     "output_type": "stream",
     "text": [
      "(267, 56) \n",
      " (90, 56)\n"
     ]
    }
   ],
   "source": [
    "print(X_train.shape,'\\n', X_test.shape)"
   ]
  },
  {
   "cell_type": "markdown",
   "metadata": {},
   "source": [
    "## 4.7 Scale the data<a id='4.7'></a>"
   ]
  },
  {
   "cell_type": "markdown",
   "metadata": {},
   "source": [
    "The standardscaler is used to scale the data."
   ]
  },
  {
   "cell_type": "code",
   "execution_count": 9,
   "metadata": {},
   "outputs": [
    {
     "name": "stdout",
     "output_type": "stream",
     "text": [
      "(267, 56) \n",
      " (90, 56)\n"
     ]
    }
   ],
   "source": [
    "scaler = StandardScaler()\n",
    "X0_train_scaled = scaler.fit_transform(X0_train)\n",
    "X0_test_scaled = scaler.transform(X0_test)\n",
    "X_train_scaled = scaler.fit_transform(X_train)\n",
    "X_test_scaled = scaler.transform(X_test)\n",
    "\n",
    "print(X_train_scaled.shape,'\\n', X_test_scaled.shape)"
   ]
  },
  {
   "cell_type": "markdown",
   "metadata": {},
   "source": [
    "## 4.8 Model Comparison<a id='4.8'></a>"
   ]
  },
  {
   "cell_type": "markdown",
   "metadata": {},
   "source": [
    "### 4.8.1 Linear Regression<a id='4.8.1'></a>"
   ]
  },
  {
   "cell_type": "markdown",
   "metadata": {},
   "source": [
    "First, we use all the features (i.e., X0) to train the model."
   ]
  },
  {
   "cell_type": "code",
   "execution_count": 10,
   "metadata": {},
   "outputs": [
    {
     "name": "stdout",
     "output_type": "stream",
     "text": [
      "The r2 score is  0.898 \n",
      " The mean squared error is  0.915\n"
     ]
    }
   ],
   "source": [
    "lm = LinearRegression()\n",
    "lm.fit(X0_train_scaled, y0_train)\n",
    "y0_pred = lm.predict(X0_test_scaled)\n",
    "print('The r2 score is ', round(r2_score(y0_test, y0_pred),3), '\\n',\n",
    "      'The mean squared error is ', round(mean_squared_error(y0_test, y0_pred),3)\n",
    ")"
   ]
  },
  {
   "cell_type": "markdown",
   "metadata": {},
   "source": [
    "Second, we use the features without `G1` and `G2`(i.e., X) to train the model. We can observe that hte r2 score is reduced from 0.898 to 0.052, indicating the dramtaic impact of G1 and G2 on the target variable G3. It confirms the necessarity of removing the G1 and G2 from the features to investigate the impact of other features on student's grade."
   ]
  },
  {
   "cell_type": "code",
   "execution_count": 11,
   "metadata": {},
   "outputs": [
    {
     "name": "stdout",
     "output_type": "stream",
     "text": [
      "The r2 score for the training data is 0.361\n",
      "The r2 score is  0.077 \n",
      " The mean squared error is  8.274\n"
     ]
    }
   ],
   "source": [
    "lm = LinearRegression()\n",
    "lm.fit(X_train_scaled, y_train)\n",
    "print('The r2 score for the training data is', round(lm.score(X_train_scaled, y_train),3))\n",
    "y_pred = lm.predict(X_test_scaled)\n",
    "print('The r2 score is ', round(r2_score(y_test, y_pred),3), '\\n',\n",
    "      'The mean squared error is ', round(mean_squared_error(y_test, y_pred),3)\n",
    ")"
   ]
  },
  {
   "cell_type": "code",
   "execution_count": 38,
   "metadata": {},
   "outputs": [
    {
     "name": "stdout",
     "output_type": "stream",
     "text": [
      "The cv score mean is  0.0392 \n",
      " The cv score std is  0.158\n"
     ]
    }
   ],
   "source": [
    "rf_cv_results = cross_validate(lm, X_train_scaled, y_train, cv=5,return_train_score=True)\n",
    "rf_cv_scores = rf_cv_results['test_score']\n",
    "print('The cv score mean is ', round(np.mean(rf_cv_scores),4), '\\n',\n",
    "      'The cv score std is ', round(np.std(rf_cv_scores),4))"
   ]
  },
  {
   "cell_type": "markdown",
   "metadata": {},
   "source": [
    "As the mean of the cv score of the linear regression is too small and the std is too large, this model may be underfitted. We need to try other models."
   ]
  },
  {
   "cell_type": "markdown",
   "metadata": {},
   "source": [
    "### 4.8.2 Random Forest Model<a id='4.8.2'></a>"
   ]
  },
  {
   "cell_type": "code",
   "execution_count": 40,
   "metadata": {},
   "outputs": [
    {
     "name": "stdout",
     "output_type": "stream",
     "text": [
      "The r2 score for the training data is 0.884\n",
      "The r2 score for the test dataset is  0.132\n"
     ]
    }
   ],
   "source": [
    "RF = RandomForestRegressor(n_estimators=100, random_state=47)\n",
    "RF.fit(X_train_scaled, y_train)\n",
    "print('The r2 score for the training data is', round(RF.score(X_train_scaled, y_train),3))\n",
    "y_pred = RF.predict(X_test_scaled)\n",
    "print('The r2 score for the test dataset is ', round(r2_score(y_test, y_pred),3))"
   ]
  },
  {
   "cell_type": "code",
   "execution_count": 42,
   "metadata": {},
   "outputs": [
    {
     "name": "stdout",
     "output_type": "stream",
     "text": [
      "The cv score mean is  0.139 \n",
      " The cv score std is  0.14\n"
     ]
    }
   ],
   "source": [
    "rf_cv_results = cross_validate(RF, X_train_scaled, y_train, cv=10,return_train_score=True)\n",
    "rf_cv_scores = rf_cv_results['test_score']\n",
    "print('The cv score mean is ', round(np.mean(rf_cv_scores),3), '\\n',\n",
    "      'The cv score std is ', round(np.std(rf_cv_scores),3))"
   ]
  },
  {
   "cell_type": "markdown",
   "metadata": {},
   "source": [
    "The random forest model yields a much better cv score `mean` than linear regression but the `std` is still large.\n",
    "\n",
    "Next step, we are trying to optimize the performance of the random forest model by GridSearchCV."
   ]
  },
  {
   "cell_type": "markdown",
   "metadata": {},
   "source": [
    "**Hyperparameter search using GridSearchCV**"
   ]
  },
  {
   "cell_type": "markdown",
   "metadata": {},
   "source": [
    "Random forest has a number of hyperparameters that can be explored.\n",
    "- A pipeline is created for optimization of scaler and regressor simultaneouly when necessary.\n",
    "- The scenarios below consider:\n",
    "    * StandardScaler(), MinMaxScaler()\n",
    "    * n_estimate = [1-1000]\n",
    "    * mean_squared_error and r2_score are tested as the scorer."
   ]
  },
  {
   "cell_type": "markdown",
   "metadata": {},
   "source": [
    "**Case 1: Optimize n_estimator using r2_score as the scorer**"
   ]
  },
  {
   "cell_type": "markdown",
   "metadata": {},
   "source": [
    "`GridSearchCV` use r2_score as the scorer to optimize the n-estimator for the Random Forest model."
   ]
  },
  {
   "cell_type": "code",
   "execution_count": 15,
   "metadata": {},
   "outputs": [
    {
     "data": {
      "text/plain": [
       "{'n_estimators': 686}"
      ]
     },
     "execution_count": 15,
     "metadata": {},
     "output_type": "execute_result"
    }
   ],
   "source": [
    "# define the range of n_estimator\n",
    "n_est = [int(n) for n in np.logspace(start=1, stop=3, num=50)]\n",
    "grid_params = {'n_estimators': n_est}\n",
    "\n",
    "# implement optimization\n",
    "rf_grid_cv = GridSearchCV(RF, param_grid=grid_params, cv=10, n_jobs=-1)\n",
    "rf_grid_cv.fit(X_train_scaled, y_train)\n",
    "rf_grid_cv.best_params_"
   ]
  },
  {
   "cell_type": "code",
   "execution_count": 16,
   "metadata": {
    "scrolled": true
   },
   "outputs": [
    {
     "name": "stdout",
     "output_type": "stream",
     "text": [
      "The cv score mean is  0.1511 \n",
      " The cv score std is  0.148\n"
     ]
    }
   ],
   "source": [
    "# Ouput the optimized scorer\n",
    "rf_best_cv_results = cross_validate(rf_grid_cv.best_estimator_, X_train_scaled, y_train, cv=10,return_train_score=True)\n",
    "rf_best_scores = rf_best_cv_results['test_score']\n",
    "print('The cv score mean is ', round(np.mean(rf_best_scores),4), '\\n',\n",
    "      'The cv score std is ', round(np.std(rf_best_scores),4))"
   ]
  },
  {
   "cell_type": "code",
   "execution_count": 17,
   "metadata": {
    "scrolled": false
   },
   "outputs": [
    {
     "data": {
      "image/png": "[encoded data removed]",
      "text/plain": [
       "<Figure size 720x360 with 1 Axes>"
      ]
     },
     "metadata": {
      "needs_background": "light"
     },
     "output_type": "display_data"
    }
   ],
   "source": [
    "plt.subplots(figsize=(10, 5))\n",
    "imps = rf_grid_cv.best_estimator_.feature_importances_\n",
    "# imps = rf_grid_cv.best_estimator_.named_steps.randomforestregressor.feature_importances_\n",
    "rf_feat_imps = pd.Series(imps, index=X.columns).sort_values(ascending=False)\n",
    "rf_feat_imps.plot(kind='bar')\n",
    "plt.xlabel('features')\n",
    "plt.ylabel('importance')\n",
    "plt.title('Best random forest regressor feature importances');"
   ]
  },
  {
   "cell_type": "code",
   "execution_count": 25,
   "metadata": {
    "scrolled": true
   },
   "outputs": [],
   "source": [
    "feature_importance = pd.DataFrame(rf_feat_imps).reset_index()"
   ]
  },
  {
   "cell_type": "code",
   "execution_count": 26,
   "metadata": {},
   "outputs": [
    {
     "name": "stdout",
     "output_type": "stream",
     "text": [
      "A file already exists with this name.\n",
      "\n",
      "Do you want to overwrite? (Y/N)Y\n",
      "Writing file.  \"../data\\feature importance.csv\"\n"
     ]
    }
   ],
   "source": [
    "datapath = '../data'\n",
    "save_file(feature_importance, 'feature importance.csv', datapath)"
   ]
  },
  {
   "cell_type": "markdown",
   "metadata": {},
   "source": [
    "**Case 2: Optimize n_estimator using mean_squared_error as the scorer**"
   ]
  },
  {
   "cell_type": "markdown",
   "metadata": {},
   "source": [
    "`GridSearchCV` use mean_squared_error as the scorer to optimize the n-estimator for the Random Forest model."
   ]
  },
  {
   "cell_type": "code",
   "execution_count": 495,
   "metadata": {
    "scrolled": false
   },
   "outputs": [
    {
     "name": "stdout",
     "output_type": "stream",
     "text": [
      "{'n_estimators': 10}\n",
      "The cv score mean is  0.053 \n",
      " The cv score std is  0.1776\n"
     ]
    }
   ],
   "source": [
    "n_est = [int(n) for n in np.logspace(start=1, stop=3, num=50)]\n",
    "grid_params = {'n_estimators': n_est}\n",
    "\n",
    "scorers = {'mse': make_scorer(mean_squared_error)}\n",
    "\n",
    "rf_grid_cv = GridSearchCV(RF, param_grid=grid_params, refit='mse', cv=10, scoring=scorers, n_jobs=-1)\n",
    "rf_grid_cv.fit(X_train_scaled, y_train)\n",
    "print(rf_grid_cv.best_params_)\n",
    "\n",
    "rf_best_cv_results = cross_validate(rf_grid_cv.best_estimator_, X_train_scaled, y_train, cv=10,return_train_score=True)\n",
    "rf_best_scores = rf_best_cv_results['test_score']\n",
    "print('The cv score mean is ', round(np.mean(rf_best_scores),4), '\\n',\n",
    "      'The cv score std is ', round(np.std(rf_best_scores),4))"
   ]
  },
  {
   "cell_type": "markdown",
   "metadata": {},
   "source": [
    "It's hard to choose a proper scorer. The r2 score is used anyway.\n",
    "* By using the mean_squared_error, the mean and std of the cv score are 0.0839 and 0.0887.\n",
    "* By using the r2_score, the mean and std of the cv score are 0.1509 and 0.1458."
   ]
  },
  {
   "cell_type": "markdown",
   "metadata": {},
   "source": [
    "**Case 3: Optimize n_estimator & scaler simultaneously**"
   ]
  },
  {
   "cell_type": "code",
   "execution_count": 496,
   "metadata": {},
   "outputs": [
    {
     "data": {
      "text/plain": [
       "{'regressor': RandomForestRegressor(n_estimators=517, random_state=47),\n",
       " 'regressor__n_estimators': 517,\n",
       " 'scaler': StandardScaler()}"
      ]
     },
     "execution_count": 496,
     "metadata": {},
     "output_type": "execute_result"
    }
   ],
   "source": [
    "# build the pipeline\n",
    "RF_pip = Pipeline([\n",
    "    ('scaler', StandardScaler()),\n",
    "    ('regressor', RandomForestRegressor(random_state=47))\n",
    "])\n",
    "\n",
    "# set the parameter grid\n",
    "n_est = [int(n) for n in np.logspace(start=1, stop=3, num=50)]\n",
    "grid_params = {'scaler':[StandardScaler(), MinMaxScaler()], \n",
    "               'regressor':[RandomForestRegressor(random_state=47)],\n",
    "               'regressor__n_estimators':n_est}\n",
    "\n",
    "# define the scorer\n",
    "scorers = {'mse': make_scorer(r2_score)}\n",
    "\n",
    "# fine the best parameters\n",
    "rf_grid_cv = GridSearchCV(RF_pip, param_grid=grid_params, refit='mse', scoring=scorers, cv=10, n_jobs=-1)\n",
    "rf_grid_cv.fit(X_train, y_train)\n",
    "rf_grid_cv.best_params_"
   ]
  },
  {
   "cell_type": "code",
   "execution_count": 497,
   "metadata": {
    "scrolled": true
   },
   "outputs": [
    {
     "name": "stdout",
     "output_type": "stream",
     "text": [
      "The cv score mean is  0.1551 \n",
      " The cv score std is  0.1476\n"
     ]
    }
   ],
   "source": [
    "rf_best_cv_results = cross_validate(rf_grid_cv.best_estimator_, X_train_scaled, y_train, cv=10,return_train_score=True)\n",
    "rf_best_scores = rf_best_cv_results['test_score']\n",
    "print('The cv score mean is ', round(np.mean(rf_best_scores),4), '\\n',\n",
    "      'The cv score std is ', round(np.std(rf_best_scores),4))"
   ]
  },
  {
   "cell_type": "markdown",
   "metadata": {},
   "source": [
    "The best parameters are MinMaxScaler and n_estimator=14 in this case. But the cv score is -0.2882."
   ]
  },
  {
   "cell_type": "markdown",
   "metadata": {},
   "source": [
    "The cell below is stored for next step: Modelling."
   ]
  },
  {
   "cell_type": "code",
   "execution_count": 498,
   "metadata": {},
   "outputs": [],
   "source": [
    "# Initialze the estimators\n",
    "# rg1 = RandomForestRegressor(random_state=47)\n",
    "# rg2 = LinearRegression()\n",
    "\n",
    "# param1 = {}\n",
    "# n_est = [int(n) for n in np.logspace(start=1, stop=3, num=50)]\n",
    "# param1['classifier__n_estimators'] = n_est\n",
    "# param1['classifier__max_depth'] = [5, 10, 20]\n",
    "# param1['classifier'] = [rg1]\n",
    "\n",
    "# param2 = {}\n",
    "# param2['classifier__normalize'] = [True, False]\n",
    "# param2['classifier'] = [rg2]\n",
    "\n",
    "\n",
    "# pipeline = Pipeline([('classifier', rg1)])\n",
    "# grid_params = [param1, param2]\n",
    "\n",
    "# scorers = {'mse': make_scorer(mean_squared_error)}\n",
    "\n",
    "# rf_grid_cv = GridSearchCV(Pipeline, param_grid=grid_params, refit='mse', scoring=scorers, cv=5, n_jobs=-1)\n",
    "# rf_grid_cv.fit(X_train_scaled, y_train)\n",
    "# rf_grid_cv.best_params_"
   ]
  },
  {
   "cell_type": "markdown",
   "metadata": {},
   "source": [
    "**Exploring PCA and modeling**"
   ]
  },
  {
   "cell_type": "code",
   "execution_count": 499,
   "metadata": {},
   "outputs": [
    {
     "data": {
      "image/png": "[encoded data removed]",
      "text/plain": [
       "<Figure size 432x288 with 1 Axes>"
      ]
     },
     "metadata": {
      "needs_background": "light"
     },
     "output_type": "display_data"
    }
   ],
   "source": [
    "pca = PCA()\n",
    "X_train = pca.fit_transform(X_train_scaled)\n",
    "X_test = pca.transform(X_test_scaled)\n",
    "# explained_variance = pca.explained_variance_ratio_\n",
    "# explained_variance\n",
    "# Plot the explained variances\n",
    "features = range(pca.n_components_)\n",
    "plt.bar(features, pca.explained_variance_)\n",
    "plt.xlabel('PCA feature')\n",
    "plt.ylabel('variance')\n",
    "plt.xticks(features)\n",
    "plt.show()"
   ]
  },
  {
   "cell_type": "code",
   "execution_count": 500,
   "metadata": {},
   "outputs": [],
   "source": [
    "r2score = []\n",
    "\n",
    "for i in range(50):\n",
    "    X_train_scaled = scaler.fit_transform(X_train)\n",
    "    X_test_scaled = scaler.transform(X_test)\n",
    "\n",
    "    pca = PCA(n_components=i+1)\n",
    "    X_train_scaled = pca.fit_transform(X_train_scaled)\n",
    "    X_test_scaled = pca.transform(X_test_scaled)\n",
    "\n",
    "    RF = RandomForestRegressor(random_state=47)\n",
    "    RF_model = RF.fit(X_train_scaled, y_train)\n",
    "    y_test_predict = RF_model.predict(X_test_scaled)\n",
    "    r2score.append(r2_score(y_test, y_test_predict))"
   ]
  },
  {
   "cell_type": "code",
   "execution_count": 501,
   "metadata": {},
   "outputs": [
    {
     "name": "stdout",
     "output_type": "stream",
     "text": [
      "-0.32766100411613297 0.031166930521330904\n"
     ]
    },
    {
     "data": {
      "image/png": "[encoded data removed]",
      "text/plain": [
       "<Figure size 432x288 with 1 Axes>"
      ]
     },
     "metadata": {
      "needs_background": "light"
     },
     "output_type": "display_data"
    }
   ],
   "source": [
    "print(min(r2score), max(r2score))\n",
    "plt.scatter(np.array(range(50)) + 1, r2score)\n",
    "plt.show();"
   ]
  },
  {
   "cell_type": "code",
   "execution_count": 502,
   "metadata": {},
   "outputs": [
    {
     "name": "stdout",
     "output_type": "stream",
     "text": [
      "The r2 score is  -0.32746921160226306 \n",
      " The mean squared error is  11.904776666666665\n",
      "The cv score mean is  -0.638 \n",
      " The cv score std is  0.2817\n"
     ]
    }
   ],
   "source": [
    "X_train_scaled = scaler.fit_transform(X_train)\n",
    "X_test_scaled = scaler.transform(X_test)\n",
    "\n",
    "pca = PCA(n_components=1)\n",
    "X_train_scaled = pca.fit_transform(X_train_scaled)\n",
    "X_test_scaled = pca.transform(X_test_scaled)\n",
    "\n",
    "RF = RandomForestRegressor(random_state=47)\n",
    "RF.fit(X_train_scaled, y_train)\n",
    "y_test_predict = RF.predict(X_test_scaled)\n",
    "print('The r2 score is ', r2_score(y_test, y_test_predict), '\\n',\n",
    "      'The mean squared error is ', mean_squared_error(y_test, y_test_predict)\n",
    ")\n",
    "\n",
    "rf_best_cv_results = cross_validate(RF, X_train_scaled, y_train, cv=10,return_train_score=True)\n",
    "rf_best_scores = rf_best_cv_results['test_score']\n",
    "print('The cv score mean is ', round(np.mean(rf_best_scores),4), '\\n',\n",
    "      'The cv score std is ', round(np.std(rf_best_scores),4))"
   ]
  }
 ],
 "metadata": {
  "kernelspec": {
   "display_name": "Python 3 (ipykernel)",
   "language": "python",
   "name": "python3"
  },
  "language_info": {
   "codemirror_mode": {
    "name": "ipython",
    "version": 3
   },
   "file_extension": ".py",
   "mimetype": "text/x-python",
   "name": "python",
   "nbconvert_exporter": "python",
   "pygments_lexer": "ipython3",
   "version": "3.9.12"
  },
  "toc": {
   "base_numbering": 1,
   "nav_menu": {},
   "number_sections": true,
   "sideBar": true,
   "skip_h1_title": false,
   "title_cell": "Table of Contents",
   "title_sidebar": "Contents",
   "toc_cell": false,
   "toc_position": {},
   "toc_section_display": true,
   "toc_window_display": true
  },
  "varInspector": {
   "cols": {
    "lenName": 16,
    "lenType": 16,
    "lenVar": 40
   },
   "kernels_config": {
    "python": {
     "delete_cmd_postfix": "",
     "delete_cmd_prefix": "del ",
     "library": "var_list.py",
     "varRefreshCmd": "print(var_dic_list())"
    },
    "r": {
     "delete_cmd_postfix": ") ",
     "delete_cmd_prefix": "rm(",
     "library": "var_list.r",
     "varRefreshCmd": "cat(var_dic_list()) "
    }
   },
   "types_to_exclude": [
    "module",
    "function",
    "builtin_function_or_method",
    "instance",
    "_Feature"
   ],
   "window_display": false
  }
 },
 "nbformat": 4,
 "nbformat_minor": 4
}
